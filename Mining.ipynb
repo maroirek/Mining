{
 "cells": [
  {
   "cell_type": "markdown",
   "metadata": {},
   "source": [
    "Code mining partie PS "
   ]
  },
  {
   "cell_type": "code",
   "execution_count": null,
   "metadata": {},
   "outputs": [],
   "source": [
    "from pynq import Overlay\n",
    "\n",
    "SHA256 = Overlay('/home/xilinx/jupyter_notebooks/DJ/dj.bit')\n",
    "\n",
    "ip=SHA256.sha256_0\n",
    "mmio=ip.mmio\n",
    "register_map=ip.register_map\n",
    "registers=register_map._register_classes"
   ]
  },
  {
   "cell_type": "markdown",
   "metadata": {},
   "source": [
    "In the previous part, we create the overlay (material library) for our hash function (SHA 256) which is implemented in the FPGA and will be used by next"
   ]
  },
  {
   "cell_type": "code",
   "execution_count": null,
   "metadata": {},
   "outputs": [],
   "source": [
    "# Show all registers available\n",
    "for name, reg in registers.items():\n",
    "    print(name, reg)"
   ]
  },
  {
   "cell_type": "code",
   "execution_count": null,
   "metadata": {},
   "outputs": [],
   "source": [
    "import hashlib\n",
    "import array\n",
    "import math\n",
    "import numpy as np\n",
    "from pynq import allocate\n",
    "\n",
    "\n",
    "# Hardware accelerated function\n",
    "def SHA256_hardware(xxx, byte, base):\n",
    "    \n",
    "    from pynq import allocate\n",
    "    \n",
    "    register_map.bytes=byte\n",
    "    register_map.base_offset=base\n",
    "\n",
    "    # Register location \n",
    "    result_addr = register_map.Memory_digest.address // 4\n",
    "    result_size = register_map.Memory_digest.width // 4\n",
    "    result_val = mmio.array[result_addr:result_addr+result_size]\n",
    "  \n",
    "    input_buffer_size = 256\n",
    "    input_buffer = allocate(shape=(input_buffer_size,), dtype='u1', cacheable=False) # unsigned 32-bit integers\n",
    "    register_map.Memory_data = input_buffer.device_address\n",
    "    \n",
    "     from functools import reduce \n",
    "\n",
    "    def s2h (s):\n",
    "        list=[]\n",
    "        for ch in s :\n",
    "            s2h=hex(ord(ch)).replace('0x', '')\n",
    "            if len(s2h)==1 : s2h='0'+s2h\n",
    "            list.append(s2h)\n",
    "     \n",
    "        return str(hex(int(reduce(lambda i, j:i+j,list),16))).encode()\n",
    "         \n",
    "    \n",
    "    x=s2h(xxx)\n",
    "    \n",
    "    \n",
    "     # Write to input buffer\n",
    "    input_buffer[:len(x)] = bytearray(x)\n",
    "    \n",
    "    \n",
    "    register_map.CTRL = 1\n",
    "    \n",
    "   \n",
    "     #Wait until algorithm has completed\n",
    "        \n",
    "    while (register_map.CTRL.AP_DONE == 0):\n",
    "        pass\n",
    "    \n",
    "    result = bytearray(result_val)\n",
    "    return result.hex()\n",
    "\n",
    "\n",
    "def SHA256_software(xxx):\n",
    "    return hashlib.sha256(xxx).hexdigest()"
   ]
  }
 ],
 "metadata": {
  "kernelspec": {
   "display_name": "Python 3.9.12 ('base')",
   "language": "python",
   "name": "python3"
  },
  "language_info": {
   "name": "python",
   "version": "3.9.12"
  },
  "orig_nbformat": 4,
  "vscode": {
   "interpreter": {
    "hash": "9465493d991c10192be70692998c1f839aa44a98ea441dac77f59407aba251ff"
   }
  }
 },
 "nbformat": 4,
 "nbformat_minor": 2
}

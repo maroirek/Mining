{
 "cells": [
  {
   "cell_type": "markdown",
   "metadata": {},
   "source": [
    "Code mining partie PS "
   ]
  },
  {
   "cell_type": "code",
   "execution_count": null,
   "metadata": {},
   "outputs": [],
   "source": [
    "from pynq import Overlay\n",
    "\n",
    "SHA256 = Overlay('/home/xilinx/jupyter_notebooks/DJ/dj.bit')\n",
    "\n",
    "ip=SHA256.sha256_0\n",
    "mmio=ip.mmio\n",
    "register_map=ip.register_map\n",
    "registers=register_map._register_classes"
   ]
  }
 ],
 "metadata": {
  "kernelspec": {
   "display_name": "Python 3.9.12 ('base')",
   "language": "python",
   "name": "python3"
  },
  "language_info": {
   "name": "python",
   "version": "3.9.12"
  },
  "orig_nbformat": 4,
  "vscode": {
   "interpreter": {
    "hash": "9465493d991c10192be70692998c1f839aa44a98ea441dac77f59407aba251ff"
   }
  }
 },
 "nbformat": 4,
 "nbformat_minor": 2
}
